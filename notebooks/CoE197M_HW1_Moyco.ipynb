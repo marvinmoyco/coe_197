{
 "cells": [
  {
   "cell_type": "markdown",
   "metadata": {},
   "source": [
    "# CoE 197M HW 1 (Positional Encoding)\n",
    "### Jan Marvin D. Moyco, 2015-09359"
   ]
  },
  {
   "cell_type": "markdown",
   "metadata": {},
   "source": [
    "#### Position Matrix\n",
    "The positional encoding as defined in [this paper](https://arxiv.org/pdf/1706.03762.pdf) uses an interweaved sin and cosine functions as a way to store positional information. The angle for the sine and cosine functions are also explained in [this github page](https://github.com/tensorflow/examples/blob/master/community/en/position_encoding.ipynb) This position matrix **P** $\\in \\Re ^{pos \\,x \\,i} $ is defined by:"
   ]
  },
  {
   "cell_type": "markdown",
   "metadata": {},
   "source": [
    "$$angle\\_rate_{d}\\,=\\,(min\\_rate)^{\\frac{i}{d_{model}}}$$"
   ]
  },
  {
   "cell_type": "markdown",
   "metadata": {},
   "source": [
    "$$PE_{(pos,2i)}\\,=\\, sin(\\frac{pos}{5000^{\\frac{i}{d_{model}}}})$$"
   ]
  },
  {
   "cell_type": "markdown",
   "metadata": {},
   "source": [
    "$$PE_{(pos,2i+1)}\\,=\\, cos(\\frac{pos}{5000^{\\frac{i}{d_{model}}}})$$"
   ]
  },
  {
   "cell_type": "markdown",
   "metadata": {},
   "source": [
    "Where $pos = 0,.....,2\\pi$ is the position and $i = 0,....,[\\frac{d_{model}}{2}]$ is the dimension where each dimension of the matrix (columns) corresponds to a sinusoid (sin function for even and cos function for odd dimension). The i vector (where the 0 to $2\\pi$) are distributed are separated into equal cells of 8 (since i has a length of dmodel/2). Also, the min_rate( frequency) used was 5 kHz"
   ]
  },
  {
   "cell_type": "markdown",
   "metadata": {},
   "source": [
    "###### Importing important modules to be used."
   ]
  },
  {
   "cell_type": "code",
   "execution_count": 176,
   "metadata": {},
   "outputs": [],
   "source": [
    "import numpy as np\n",
    "import matplotlib.pyplot as plt"
   ]
  },
  {
   "cell_type": "markdown",
   "metadata": {},
   "source": [
    "#### Functions created for this notebook"
   ]
  },
  {
   "cell_type": "markdown",
   "metadata": {},
   "source": [
    "##### The functions sin_val(pos,i,dmodel)  and cos_val(pos,i,dmodel)  \n",
    "These functions computes the value of the element in the positional encoding vector for either sin (even) or cos (odd). "
   ]
  },
  {
   "cell_type": "code",
   "execution_count": 199,
   "metadata": {},
   "outputs": [],
   "source": [
    "def sin_val(pos,i,dmodel):\n",
    "    #When the pos is even (use sin)\n",
    "    sinval = np.sin(pos/(np.power(5000,((i)/dmodel))))\n",
    "    return sinval\n",
    "\n",
    "def cos_val(pos,i,dmodel):\n",
    "    #When the pos is odd (use cos)\n",
    "    cosval = np.cos(pos/(np.power(5000,((i)/dmodel))))\n",
    "    return cosval"
   ]
  },
  {
   "cell_type": "markdown",
   "metadata": {},
   "source": [
    "##### The function create_PE(pos,dmodel) \n",
    "This function creates the positional encoding matrix by using the previously created function and interweaving the result in a matrix size of pos x dmodel"
   ]
  },
  {
   "cell_type": "code",
   "execution_count": 200,
   "metadata": {},
   "outputs": [],
   "source": [
    "def create_PE(pos,dmodel):\n",
    "    init_matrix = np.zeros((pos,dmodel))\n",
    "    starting_pos = np.arange(pos)[:,np.newaxis]\n",
    "    starting_i = np.arange(dmodel//2)[np.newaxis,:]\n",
    "    starting_i = starting_i*(np.pi/4)               #Creating the list of 0 - 2pi range (for angle rates)\n",
    "    #Getting the values of the matrix by using list (created from arange()) to get all the values at once (avoiding loops)\n",
    "    init_matrix[:,0::2] = sin_val(starting_pos,starting_i,dmodel)\n",
    "    init_matrix[:,1::2]= cos_val(starting_pos,starting_i,dmodel)              \n",
    "    PE_matrix = init_matrix.reshape(1,pos,dmodel)\n",
    "    return PE_matrix"
   ]
  },
  {
   "cell_type": "markdown",
   "metadata": {},
   "source": [
    "#### Creation of the matrix\n",
    "This part will be the creation of the positional encoding matrix using the specifications of pos = 16, i = 16, dmodel = 16\n",
    "Main Reference: [github.io/jalammar](https://github.com/jalammar/jalammar.github.io/blob/master/notebookes/transformer/transformer_positional_encoding_graph.ipynb)"
   ]
  },
  {
   "cell_type": "code",
   "execution_count": 201,
   "metadata": {},
   "outputs": [
    {
     "data": {
      "text/plain": [
       "(1, 16, 16)"
      ]
     },
     "execution_count": 201,
     "metadata": {},
     "output_type": "execute_result"
    }
   ],
   "source": [
    "pos = 16\n",
    "dmodel = 16\n",
    "i = 16\n",
    "PE_matrix = create_PE(pos,dmodel)\n",
    "PE_matrix.shape"
   ]
  },
  {
   "cell_type": "markdown",
   "metadata": {},
   "source": [
    "#### Check the matrix if it is orthogonal and/or orthonormal\n",
    "This part, the positional matrix will be evaluated if it is an orthonormal basis matrix meaning:\n",
    "* The basis vectors (columns) are orthogonal to each other; and\n",
    "* The vectors are normalized\n",
    "The property of an orthogonal matrix will be used to check the positional encoding matrix since the matrix created is a 16 x 16 matrix. This property of an orthogonal matrix says: \"A square matrix $A\\, \\in \\, \\Re ^{n\\,x\\,n}$ is orthogonal is the columns are orthonormal\":\n"
   ]
  },
  {
   "cell_type": "markdown",
   "metadata": {},
   "source": [
    "$$ AA^{T} \\, = \\, A^{T}A = I $$"
   ]
  },
  {
   "cell_type": "markdown",
   "metadata": {},
   "source": [
    "Implication: $A^{-1} = A^{T}$\n",
    "This means that if the inverse of the positional encoding matrix is equal to its transpose, then the matrix can be said to be orthogonal and the column vectors are orthonormal. Reference: [This github page](https://github.com/roatienza/ml/blob/master/analytic_geometry/Analytic_Geometry.pdf)"
   ]
  },
  {
   "cell_type": "code",
   "execution_count": 202,
   "metadata": {},
   "outputs": [
    {
     "data": {
      "text/plain": [
       "False"
      ]
     },
     "execution_count": 202,
     "metadata": {},
     "output_type": "execute_result"
    }
   ],
   "source": [
    "inv_PE_matrix = np.linalg.inv(PE_matrix)\n",
    "trans_PE_matrix = PE_matrix.T.reshape(1,16,16)\n",
    "np.allclose(np.linalg.inv(PE_matrix),PE_matrix.T)"
   ]
  },
  {
   "cell_type": "markdown",
   "metadata": {},
   "source": [
    "Since the inverse and the transpose of the matrix are not equal, the column vectors are not orthonormal. The matrix  has to undergo the Gram-Schmidt Process to become orthonormal."
   ]
  },
  {
   "cell_type": "markdown",
   "metadata": {},
   "source": [
    "#### QR Decomposition\n",
    "This method is applicable to PE_matrix since it is a square matrix and not orthogonal. The QR Decomposition states that any real square matrix A can be decomposed as:"
   ]
  },
  {
   "cell_type": "markdown",
   "metadata": {},
   "source": [
    "$$ A \\, = \\, QR $$"
   ]
  },
  {
   "cell_type": "markdown",
   "metadata": {},
   "source": [
    "Where A is the input matrix, Q is the orthogonal matrix (meaning the columns are orthonormal), and R is the upper triangular matrix (the lower half of the diagonal line is zeros). "
   ]
  },
  {
   "cell_type": "code",
   "execution_count": 203,
   "metadata": {},
   "outputs": [
    {
     "data": {
      "text/plain": [
       "(1, 16, 16)"
      ]
     },
     "execution_count": 203,
     "metadata": {},
     "output_type": "execute_result"
    }
   ],
   "source": [
    "q,r = np.linalg.qr(PE_matrix.reshape(16,16)) #Numpy's function for QR decomposition\n",
    "PE_orthogonal = q.reshape(1,16,16)  #Reshaping the orthogonal matrix\n",
    "r = r.reshape(1,16,16)  #Reshaping the upper triangular matrix\n",
    "PE_orthogonal.shape"
   ]
  },
  {
   "cell_type": "markdown",
   "metadata": {},
   "source": [
    "#### Checking the resulting matrix \n",
    "After the QR decomposition, the matrix is verified again using the property of the orthogonal matrix as before."
   ]
  },
  {
   "cell_type": "code",
   "execution_count": 204,
   "metadata": {},
   "outputs": [
    {
     "data": {
      "text/plain": [
       "True"
      ]
     },
     "execution_count": 204,
     "metadata": {},
     "output_type": "execute_result"
    }
   ],
   "source": [
    "inv_PE_orthogonal = np.linalg.inv(PE_orthogonal)\n",
    "trans_PE_orthogonal = np.transpose(PE_orthogonal).reshape(1,16,16)\n",
    "np.allclose(inv_PE_orthogonal,trans_PE_orthogonal)\n",
    "#trans_PE_orthogonal.shape"
   ]
  },
  {
   "cell_type": "markdown",
   "metadata": {},
   "source": [
    "Since the inverse and the transpose of the PE_orthogonal is equal, the matrix can now be said to be orthogonal and its vectors are orthonormal."
   ]
  },
  {
   "cell_type": "markdown",
   "metadata": {},
   "source": [
    "#### Output: Initial Positional Encoding Matrix\n",
    "The figure below shows the colored visualization of the positional encoding matrix."
   ]
  },
  {
   "cell_type": "code",
   "execution_count": 205,
   "metadata": {},
   "outputs": [
    {
     "data": {
      "image/png": "[encoded data removed]",
      "text/plain": [
       "<Figure size 864x576 with 2 Axes>"
      ]
     },
     "metadata": {
      "needs_background": "light"
     },
     "output_type": "display_data"
    }
   ],
   "source": [
    "pi_ticks=['0','π/8','π/4','3π/8','π/2','5π/8','3π/4','7π/8','π','9π/8','5π/4','11π/8','3π/2','13π/8','7π/4','15π/8','2π']\n",
    "plt.figure(figsize=(12,8))\n",
    "plt.pcolormesh(PE_matrix[0], cmap='viridis')\n",
    "plt.xlabel('Embedding Dimensions')\n",
    "plt.xlim((0, dmodel ))\n",
    "plt.ylim((pos,0))\n",
    "plt.xticks(np.arange(17),pi_ticks)\n",
    "plt.ylabel('Token Position')\n",
    "plt.colorbar()\n",
    "plt.show()"
   ]
  },
  {
   "cell_type": "markdown",
   "metadata": {},
   "source": [
    "#### Output: Orthogonal Positional Encoding Matrix\n",
    "The figures below shows the colored visualization of the positional encoding matrix.\n"
   ]
  },
  {
   "cell_type": "markdown",
   "metadata": {},
   "source": [
    "##### QR Decomposition"
   ]
  },
  {
   "cell_type": "code",
   "execution_count": 206,
   "metadata": {},
   "outputs": [
    {
     "data": {
      "image/png": "[encoded data removed]",
      "text/plain": [
       "<Figure size 864x576 with 2 Axes>"
      ]
     },
     "metadata": {
      "needs_background": "light"
     },
     "output_type": "display_data"
    }
   ],
   "source": [
    "plt.figure(figsize=(12,8))\n",
    "plt.pcolormesh(PE_orthogonal[0], cmap='viridis')\n",
    "plt.xlabel('Embedding Dimensions')\n",
    "plt.xlim((0, dmodel ))\n",
    "plt.ylim((pos,0))\n",
    "plt.xticks(np.arange(17),pi_ticks)\n",
    "plt.ylabel('Token Position')\n",
    "plt.colorbar()\n",
    "plt.show()"
   ]
  },
  {
   "cell_type": "markdown",
   "metadata": {},
   "source": [
    "##### Plot of the Inverse of the Orthogonal Basis Matrix"
   ]
  },
  {
   "cell_type": "code",
   "execution_count": 207,
   "metadata": {},
   "outputs": [
    {
     "data": {
      "image/png": "[encoded data removed]",
      "text/plain": [
       "<Figure size 864x576 with 2 Axes>"
      ]
     },
     "metadata": {
      "needs_background": "light"
     },
     "output_type": "display_data"
    }
   ],
   "source": [
    "plt.figure(figsize=(12,8))\n",
    "plt.pcolormesh(inv_PE_orthogonal[0], cmap='viridis')\n",
    "plt.xlabel('Embedding Dimensions')\n",
    "plt.xlim((0, dmodel ))\n",
    "plt.ylim((pos,0))\n",
    "plt.ylabel('Token Position')\n",
    "plt.colorbar()\n",
    "plt.show()"
   ]
  },
  {
   "cell_type": "markdown",
   "metadata": {},
   "source": [
    "##### Plot of the Transpose of the Orthogonal Basis Matrix"
   ]
  },
  {
   "cell_type": "code",
   "execution_count": 208,
   "metadata": {},
   "outputs": [
    {
     "data": {
      "image/png": "[encoded data removed]",
      "text/plain": [
       "<Figure size 864x576 with 2 Axes>"
      ]
     },
     "metadata": {
      "needs_background": "light"
     },
     "output_type": "display_data"
    }
   ],
   "source": [
    "plt.figure(figsize=(12,8))\n",
    "plt.pcolormesh(trans_PE_orthogonal[0], cmap='viridis')\n",
    "plt.xlabel('Embedding Dimensions')\n",
    "plt.xlim((0, dmodel ))\n",
    "plt.ylim((pos,0))\n",
    "plt.ylabel('Token Position')\n",
    "plt.colorbar()\n",
    "plt.show()"
   ]
  }
 ],
 "metadata": {
  "kernelspec": {
   "display_name": "Python 3",
   "language": "python",
   "name": "python3"
  },
  "language_info": {
   "codemirror_mode": {
    "name": "ipython",
    "version": 3
   },
   "file_extension": ".py",
   "mimetype": "text/x-python",
   "name": "python",
   "nbconvert_exporter": "python",
   "pygments_lexer": "ipython3",
   "version": "3.8.5"
  }
 },
 "nbformat": 4,
 "nbformat_minor": 4
}
